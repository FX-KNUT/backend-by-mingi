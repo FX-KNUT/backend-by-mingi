{
 "cells": [
  {
   "cell_type": "code",
   "execution_count": 76,
   "id": "4b07592b",
   "metadata": {
    "ExecuteTime": {
     "end_time": "2022-03-22T05:13:22.856517Z",
     "start_time": "2022-03-22T05:13:22.849044Z"
    },
    "scrolled": true
   },
   "outputs": [
    {
     "ename": "IndentationError",
     "evalue": "unexpected indent (2691531861.py, line 16)",
     "output_type": "error",
     "traceback": [
      "\u001b[0;36m  Input \u001b[0;32mIn [76]\u001b[0;36m\u001b[0m\n\u001b[0;31m    for idx, row in df.iterrows():\u001b[0m\n\u001b[0m    ^\u001b[0m\n\u001b[0;31mIndentationError\u001b[0m\u001b[0;31m:\u001b[0m unexpected indent\n"
     ]
    }
   ],
   "source": [
    "\n",
    "# SQL 적용\n",
    "host ='event.cdjb7q86vnre.ap-northeast-2.rds.amazonaws.com'\n",
    "port = 58321\n",
    "database = 'sys'\n",
    "username = 'admin'\n",
    "password ='19991003'\n",
    "conn = pymysql.connect(host = host, \n",
    "                       user=username, \n",
    "                       passwd = password, \n",
    "                       db = database, \n",
    "                       port = port, \n",
    "                       charset = 'utf8')\n",
    "cur = conn.cursor()\n",
    "\n",
    "\n",
    "cur.close()"
   ]
  },
  {
   "cell_type": "code",
   "execution_count": 79,
   "id": "1db4997a",
   "metadata": {
    "ExecuteTime": {
     "end_time": "2022-03-22T05:18:31.745063Z",
     "start_time": "2022-03-22T05:17:26.205396Z"
    },
    "scrolled": false
   },
   "outputs": [],
   "source": [
    "from selenium.webdriver.chrome.service import Service\n",
    "from selenium import webdriver\n",
    "from selenium.webdriver.common.by import By\n",
    "from bs4 import BeautifulSoup\n",
    "from collections import OrderedDict\n",
    "import time\n",
    "import pandas as pd\n",
    "import json\n",
    "import pymysql\n",
    "import re\n",
    "\n",
    "\n",
    "    \n",
    "def getdata(event_lable_list, event_name_list, event_price_list, event_img_list, event):\n",
    "    # 페이지 읽기\n",
    "    html_page = driver.page_source\n",
    "    soup_page = BeautifulSoup(html_page, 'html.parser')\n",
    "    \n",
    "    # 요소 읽기 \n",
    "    prod_name_List = soup_page.select(\"p.productDiv\")\n",
    "    prod_price_List = soup_page.select(\"p.price\")\n",
    "    prod_img_List = soup_page.select(\"div.box > p.productImg > img\")\n",
    "\n",
    "    LENGTH = min(len(prod_img_List), len(prod_name_List), len(prod_price_List))\n",
    "    \n",
    "    # 배열 요소 넣기 \n",
    "    for i in range(LENGTH):\n",
    "        event_lable_list.append(event)\n",
    "        event_img_list.append(prod_img_List[i]['src'])\n",
    "        event_name_list.append(prod_name_List[i].text)\n",
    "        event_price_list.append(prod_price_List[i].text)\n",
    " \n",
    "# 다음 페이지 누르기\n",
    "def next_page(event_lable_list, event_name_list, event_price_list, event_img_list, event, xpath):\n",
    "    \n",
    "    # tap 누르기\n",
    "    driver.find_element(By.XPATH,xpath).click()\n",
    "    \n",
    "    # 페이지 요소 읽기\n",
    "    html = driver.page_source\n",
    "    soup = BeautifulSoup(html, 'html.parser')\n",
    "    \n",
    "    # 현재 창에 나와있는 페이지들\n",
    "    totalpage = soup.select(\".paging > a\") \n",
    "\n",
    "    # 마지막 페이지 찾기 \n",
    "    lastpage = int(re.sub(r'[^0-9]', '',totalpage[-1][\"href\"]))\n",
    "    \n",
    "    \n",
    "    # 마지막 페이지 수만큼 다음 클릭하면서 데이터 읽어오기\n",
    "    for i in range(lastpage):\n",
    "        getdata(event_lable_list, event_name_list, event_price_list, event_img_list, event)\n",
    "        driver.find_element(By.CLASS_NAME, 'next.bgNone').click()\n",
    "    #스크롤 맨위로\n",
    "    driver.execute_script(\"window.scrollTo(0, 0)\")\n",
    "    \n",
    "def input_DB(df):\n",
    "    # DB에 넣기\n",
    "    for idx, row in df.iterrows(): \n",
    "        val = (row[0], row[1], row[2], row[3], row[4])\n",
    "        cur.execute('INSERT INTO EMART24 (brand, event, name, price, img) VALUES (%s, %s, %s, %s, %s)',val)\n",
    "        conn.commit()\n",
    "    \n",
    "# 이마트 열기\n",
    "def Emart24_event():\n",
    "    \n",
    "    # Emart24 창 열기\n",
    "    url='https://emart24.co.kr/product/eventProduct.asp'\n",
    "    driver.get(url)\n",
    "    time.sleep(2)\n",
    "    \n",
    "    \n",
    "    # 배열 생성\n",
    "    event_lable_list = []\n",
    "    event_name_list = []\n",
    "    event_price_list = []\n",
    "    event_img_list = []\n",
    "    event = []\n",
    "    \n",
    "    # 데이터 프레임으로 전환할 딕션어리 생성\n",
    "    data = {\n",
    "        \"brand\" : \"EMART24\"\n",
    "    }\n",
    "    \n",
    "    # tap 이름\n",
    "    xpath = driver.find_element(By.CLASS_NAME,\"tab01\")\n",
    "    xpaths = xpath.find_elements(By.CSS_SELECTOR, \"a\")\n",
    "    for i in xpaths[1:]:\n",
    "        event.append(i.text)\n",
    "    \n",
    "    # tap 들\n",
    "    xpath_tap = [\n",
    "        '//*[@id=\"tabNew\"]/ul/li[2]/h4/a',\n",
    "        '//*[@id=\"tabNew\"]/ul/li[3]/h4/a',\n",
    "        '//*[@id=\"tabNew\"]/ul/li[4]/h4/a',\n",
    "        '//*[@id=\"tabNew\"]/ul/li[5]/h4/a',\n",
    "        '//*[@id=\"tabNew\"]/ul/li[6]/h4/a',\n",
    "        '//*[@id=\"tabNew\"]/ul/li[7]/h4/a'\n",
    "    ]\n",
    "    \n",
    "    LEN = min(len(event), len(xpath_tap))\n",
    "    # tap 이동\n",
    "    for i in range(LEN):\n",
    "        next_page(event_lable_list,event_name_list, event_price_list, event_img_list, event[i], xpath_tap[i])\n",
    "        \n",
    "    \n",
    "    # 딕션어리 추가\n",
    "    data[\"event\"] = event_lable_list\n",
    "    data[\"name\"] = event_name_list\n",
    "    data[\"price\"] = event_price_list\n",
    "    data[\"img\"] = event_img_list\n",
    "    \n",
    "    # 변환\n",
    "    df = pd.DataFrame(data)\n",
    "    \n",
    "    #중복 제거\n",
    "    df = df.drop_duplicates(['name'])\n",
    "        \n",
    "    input_DB(df)\n",
    "\n",
    "# # 크롬 드라이버 실행 \n",
    "s = Service('/Users/gimmingi/Desktop/web/chromedriver')\n",
    "driver = webdriver.Chrome(service=s)\n",
    "\n",
    "# SQL 적용\n",
    "host ='event.cdjb7q86vnre.ap-northeast-2.rds.amazonaws.com'\n",
    "port = 58321\n",
    "database = 'sys'\n",
    "username = 'admin'\n",
    "password ='19991003'\n",
    "conn = pymysql.connect(host = host, \n",
    "                       user=username, \n",
    "                       passwd = password, \n",
    "                       db = database, \n",
    "                       port = port, \n",
    "                       charset = 'utf8')\n",
    "cur = conn.cursor()\n",
    "# 실행\n",
    "Emart24_event()\n",
    "\n",
    "cur.close()"
   ]
  },
  {
   "cell_type": "code",
   "execution_count": 62,
   "id": "c4e839b6",
   "metadata": {
    "ExecuteTime": {
     "end_time": "2022-03-22T00:59:14.680095Z",
     "start_time": "2022-03-22T00:59:14.645039Z"
    }
   },
   "outputs": [],
   "source": []
  }
 ],
 "metadata": {
  "kernelspec": {
   "display_name": "Python 3 (ipykernel)",
   "language": "python",
   "name": "python3"
  },
  "language_info": {
   "codemirror_mode": {
    "name": "ipython",
    "version": 3
   },
   "file_extension": ".py",
   "mimetype": "text/x-python",
   "name": "python",
   "nbconvert_exporter": "python",
   "pygments_lexer": "ipython3",
   "version": "3.9.10"
  },
  "toc": {
   "base_numbering": 1,
   "nav_menu": {},
   "number_sections": true,
   "sideBar": true,
   "skip_h1_title": false,
   "title_cell": "Table of Contents",
   "title_sidebar": "Contents",
   "toc_cell": false,
   "toc_position": {},
   "toc_section_display": true,
   "toc_window_display": false
  },
  "varInspector": {
   "cols": {
    "lenName": 16,
    "lenType": 16,
    "lenVar": 40
   },
   "kernels_config": {
    "python": {
     "delete_cmd_postfix": "",
     "delete_cmd_prefix": "del ",
     "library": "var_list.py",
     "varRefreshCmd": "print(var_dic_list())"
    },
    "r": {
     "delete_cmd_postfix": ") ",
     "delete_cmd_prefix": "rm(",
     "library": "var_list.r",
     "varRefreshCmd": "cat(var_dic_list()) "
    }
   },
   "types_to_exclude": [
    "module",
    "function",
    "builtin_function_or_method",
    "instance",
    "_Feature"
   ],
   "window_display": false
  }
 },
 "nbformat": 4,
 "nbformat_minor": 5
}
